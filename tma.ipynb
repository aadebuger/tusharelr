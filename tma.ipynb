{
 "cells": [
  {
   "cell_type": "code",
   "execution_count": 11,
   "metadata": {
    "ExecuteTime": {
     "end_time": "2019-01-25T07:23:22.873223Z",
     "start_time": "2019-01-25T07:23:22.836941Z"
    }
   },
   "outputs": [
    {
     "name": "stdout",
     "output_type": "stream",
     "text": [
      "a= [[[ 1.]\n",
      "  [ 2.]\n",
      "  [ 3.]\n",
      "  [ 4.]\n",
      "  [ 5.]\n",
      "  [ 6.]\n",
      "  [ 7.]\n",
      "  [ 8.]\n",
      "  [ 9.]\n",
      "  [10.]]]\n",
      "kernel [[[1.]]\n",
      "\n",
      " [[1.]]]\n",
      "over= [[[ 3.]\n",
      "  [ 5.]\n",
      "  [ 7.]\n",
      "  [ 9.]\n",
      "  [11.]\n",
      "  [13.]\n",
      "  [15.]\n",
      "  [17.]\n",
      "  [19.]]]\n"
     ]
    }
   ],
   "source": [
    "import tensorflow as tf\n",
    "import numpy as np\n",
    "\n",
    "# 定义一个矩阵a，表示需要被卷积的矩阵。\n",
    "a = np.array(np.arange(1, 1 + 10).reshape([1, 10, 1]), dtype=np.float32)\n",
    "\n",
    "print(\"a=\",a)\n",
    "# 卷积核，此处卷积核的数目为1\n",
    "kernel = np.array([1,1], dtype=np.float32).reshape([2, 1, 1])\n",
    "print(\"kernel\",kernel)\n",
    "# 进行conv1d卷积\n",
    "conv1d = tf.nn.conv1d(a, kernel, 1, 'VALID')\n",
    "\n",
    "with tf.Session() as sess:\n",
    "    # 初始化\n",
    "    tf.global_variables_initializer().run()\n",
    "    # 输出卷积值\n",
    "    print(\"over=\",sess.run(conv1d))\n"
   ]
  },
  {
   "cell_type": "code",
   "execution_count": 13,
   "metadata": {
    "ExecuteTime": {
     "end_time": "2019-01-25T07:41:27.975892Z",
     "start_time": "2019-01-25T07:41:27.960281Z"
    }
   },
   "outputs": [
    {
     "ename": "TypeError",
     "evalue": "'str' object cannot be interpreted as an integer",
     "output_type": "error",
     "traceback": [
      "\u001b[0;31m---------------------------------------------------------------------------\u001b[0m",
      "\u001b[0;31mTypeError\u001b[0m                                 Traceback (most recent call last)",
      "\u001b[0;32m<ipython-input-13-591d1b9cccd1>\u001b[0m in \u001b[0;36m<module>\u001b[0;34m\u001b[0m\n\u001b[0;32m----> 1\u001b[0;31m \u001b[0ma\u001b[0m\u001b[0;34m.\u001b[0m\u001b[0mreshape\u001b[0m\u001b[0;34m(\u001b[0m\u001b[0m_\u001b[0m\u001b[0;34m,\u001b[0m\u001b[0;36m1\u001b[0m\u001b[0;34m)\u001b[0m\u001b[0;34m\u001b[0m\u001b[0m\n\u001b[0m",
      "\u001b[0;31mTypeError\u001b[0m: 'str' object cannot be interpreted as an integer"
     ]
    }
   ],
   "source": [
    "a.reshape(_,1)"
   ]
  },
  {
   "cell_type": "code",
   "execution_count": null,
   "metadata": {},
   "outputs": [],
   "source": []
  }
 ],
 "metadata": {
  "kernelspec": {
   "display_name": "Python 3",
   "language": "python",
   "name": "python3"
  },
  "language_info": {
   "codemirror_mode": {
    "name": "ipython",
    "version": 3
   },
   "file_extension": ".py",
   "mimetype": "text/x-python",
   "name": "python",
   "nbconvert_exporter": "python",
   "pygments_lexer": "ipython3",
   "version": "3.6.5"
  }
 },
 "nbformat": 4,
 "nbformat_minor": 2
}
